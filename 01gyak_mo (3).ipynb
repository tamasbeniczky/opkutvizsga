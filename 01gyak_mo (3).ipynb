{
 "cells": [
  {
   "cell_type": "markdown",
   "id": "27e85b98",
   "metadata": {},
   "source": [
    "# 1. gyakorlat\n",
    "\n",
    "## Célok:\n",
    "* LP modell felépítése adott problémából"
   ]
  },
  {
   "cell_type": "markdown",
   "id": "a2aecc1d",
   "metadata": {},
   "source": [
    "### Modellezési feladat, pulp\n",
    "\n",
    "*1. feladat*\n",
    "<br>Egy számítógépes játékban minél ütőképesebb hadsereget szeretnénk létrehozni. Tizenkét óra játékidő áll rendelkezésünkre és 24 dollár van a számlánkon. A hadsereg katonákból és páncélos katonákból áll. Egy katona kiképzése egy órányi időt és három dollárnyi befektetést igényel. Egy páncél legyártása két órányi időt és két dollárnyi befektetést igényel. Egy sima katona harcértéke egy egység, egy páncélos katona harcértéke négy egység.\n",
    "<br>a) Írjunk fel egy LP modellt a problémára!"
   ]
  },
  {
   "cell_type": "markdown",
   "id": "d46808ed",
   "metadata": {},
   "source": [
    "*Megoldás:*\n",
    "<br> $x_1$: a kiképzendő katonák száma (eltekintünk az egészértékű elvárástól)\n",
    "<br> $x_2$: a legyártandó páncélok száma (eltekintünk az egészértékű elvárástól)\n",
    "\n",
    "$$\n",
    "\\begin{array}{rll}\n",
    "\\max & x_1 + 3 x_2 & \\\\\n",
    "\\text{f.h.} & x_1 + 2x_2 & \\leq 12 \\\\\n",
    "& 3x_1 + 2x_2 & \\leq 24 \\\\\n",
    "& x_1 - x_2 & \\geq 0 \\\\\n",
    "& x_1, x_2 & \\geq 0\n",
    "\\end{array}\n",
    "$$"
   ]
  }
 ],
 "metadata": {
  "kernelspec": {
   "display_name": "Python 3 (ipykernel)",
   "language": "python",
   "name": "python3"
  },
  "language_info": {
   "codemirror_mode": {
    "name": "ipython",
    "version": 3
   },
   "file_extension": ".py",
   "mimetype": "text/x-python",
   "name": "python",
   "nbconvert_exporter": "python",
   "pygments_lexer": "ipython3",
   "version": "3.12.4"
  }
 },
 "nbformat": 4,
 "nbformat_minor": 5
}
